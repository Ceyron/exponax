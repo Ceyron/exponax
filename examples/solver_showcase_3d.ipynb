{
 "cells": [
  {
   "cell_type": "markdown",
   "metadata": {},
   "source": [
    "# Built-in Solvers in 3d\n",
    "\n",
    "This uses the web-based 3d transient volume renderer by [Simon\n",
    "Niedermayr](https://github.com/KeKsBoTer). 3d volume rendering is costly.\n",
    "Likely, some of the demos below will only work reasonably fast on desktop GPUs.\n",
    "If you encounter performance issues, try to spatially subsample the produced\n",
    "trajectories, decrease the resolution of the IFrame, or increase parameter step\n",
    "size within the volume rendering window."
   ]
  },
  {
   "cell_type": "code",
   "execution_count": 59,
   "metadata": {},
   "outputs": [],
   "source": [
    "import jax\n",
    "import jax.numpy as jnp\n",
    "import matplotlib.pyplot as plt"
   ]
  },
  {
   "cell_type": "code",
   "execution_count": 60,
   "metadata": {},
   "outputs": [],
   "source": [
    "import exponax as ex\n",
    "from IPython.display import IFrame"
   ]
  },
  {
   "cell_type": "markdown",
   "metadata": {},
   "source": [
    "The trajectories have to be written out as numpy arrays. This will be the\n",
    "temporary folder they are placed in."
   ]
  },
  {
   "cell_type": "code",
   "execution_count": 61,
   "metadata": {},
   "outputs": [],
   "source": [
    "BASE_FOLDER = \"_3d_trjs/\""
   ]
  },
  {
   "cell_type": "code",
   "execution_count": 62,
   "metadata": {},
   "outputs": [],
   "source": [
    "import os\n",
    "\n",
    "if not os.path.exists(BASE_FOLDER):\n",
    "    os.makedirs(BASE_FOLDER)"
   ]
  },
  {
   "cell_type": "markdown",
   "metadata": {},
   "source": [
    "## Linear PDEs"
   ]
  },
  {
   "cell_type": "markdown",
   "metadata": {},
   "source": [
    "### Advection"
   ]
  },
  {
   "cell_type": "code",
   "execution_count": 63,
   "metadata": {},
   "outputs": [],
   "source": [
    "DOMAIN_EXTENT = 1.0\n",
    "NUM_POINTS = 48\n",
    "DT = 0.01\n",
    "# Can also supply a scalar to use the same value for both dimensions\n",
    "VELOCITY = jnp.array([0.4, 1.0, -0.2])\n",
    "\n",
    "advection_stepper = ex.stepper.Advection(\n",
    "    3, DOMAIN_EXTENT, NUM_POINTS, DT, velocity=VELOCITY\n",
    ")\n",
    "\n",
    "grid = ex.make_grid(3, DOMAIN_EXTENT, NUM_POINTS)\n",
    "u_0 = (\n",
    "    jnp.sin(2 * jnp.pi * grid[0:1] / DOMAIN_EXTENT)\n",
    "    * jnp.cos(2 * 2 * jnp.pi * grid[1:2] / DOMAIN_EXTENT)\n",
    "    * jnp.sin(3 * 2 * jnp.pi * grid[2:3] / DOMAIN_EXTENT)\n",
    ")\n",
    "\n",
    "advection_trj = ex.rollout(advection_stepper, 40, include_init=True)(u_0)\n",
    "\n",
    "jnp.savez(BASE_FOLDER + \"advection_trj.npz\", trj=advection_trj)"
   ]
  },
  {
   "cell_type": "markdown",
   "metadata": {},
   "source": [
    "The below window will then ask you to load the trajectory file."
   ]
  },
  {
   "cell_type": "code",
   "execution_count": 64,
   "metadata": {},
   "outputs": [
    {
     "data": {
      "text/html": [
       "\n",
       "        <iframe\n",
       "            width=\"1200\"\n",
       "            height=\"800\"\n",
       "            src=\"https://keksboter.github.io/v4dv\"\n",
       "            frameborder=\"0\"\n",
       "            allowfullscreen\n",
       "            \n",
       "        ></iframe>\n",
       "        "
      ],
      "text/plain": [
       "<IPython.lib.display.IFrame at 0x7e773c367b50>"
      ]
     },
     "execution_count": 64,
     "metadata": {},
     "output_type": "execute_result"
    }
   ],
   "source": [
    "IFrame(src=\"https://keksboter.github.io/v4dv\", width=1200, height=800)"
   ]
  },
  {
   "cell_type": "markdown",
   "metadata": {},
   "source": [
    "### Diffusion"
   ]
  },
  {
   "cell_type": "code",
   "execution_count": 65,
   "metadata": {},
   "outputs": [],
   "source": [
    "DOMAIN_EXTENT = 1.0\n",
    "NUM_POINTS = 48\n",
    "DT = 0.01\n",
    "# See next section for anisotropic diffusion\n",
    "NU = 0.01\n",
    "\n",
    "anisotropic_diffusion_stepper = ex.stepper.Diffusion(\n",
    "    3, DOMAIN_EXTENT, NUM_POINTS, DT, diffusivity=NU\n",
    ")\n",
    "\n",
    "grid = ex.make_grid(3, DOMAIN_EXTENT, NUM_POINTS)\n",
    "u_0 = (\n",
    "    jnp.sin(2 * jnp.pi * grid[0:1] / DOMAIN_EXTENT)\n",
    "    * jnp.cos(2 * 2 * jnp.pi * grid[1:2] / DOMAIN_EXTENT)\n",
    "    * jnp.sin(3 * 2 * jnp.pi * grid[2:3] / DOMAIN_EXTENT)\n",
    ")\n",
    "\n",
    "diffusion_trj = ex.rollout(anisotropic_diffusion_stepper, 40, include_init=True)(u_0)\n",
    "\n",
    "jnp.savez(BASE_FOLDER + \"diffusion_trj.npz\", trj=diffusion_trj)"
   ]
  },
  {
   "cell_type": "code",
   "execution_count": 66,
   "metadata": {},
   "outputs": [
    {
     "data": {
      "text/html": [
       "\n",
       "        <iframe\n",
       "            width=\"1200\"\n",
       "            height=\"800\"\n",
       "            src=\"https://keksboter.github.io/v4dv\"\n",
       "            frameborder=\"0\"\n",
       "            allowfullscreen\n",
       "            \n",
       "        ></iframe>\n",
       "        "
      ],
      "text/plain": [
       "<IPython.lib.display.IFrame at 0x7e773c385690>"
      ]
     },
     "execution_count": 66,
     "metadata": {},
     "output_type": "execute_result"
    }
   ],
   "source": [
    "IFrame(src=\"https://keksboter.github.io/v4dv\", width=1200, height=800)"
   ]
  },
  {
   "cell_type": "markdown",
   "metadata": {},
   "source": [
    "### Anisotropic Diffusion"
   ]
  },
  {
   "cell_type": "code",
   "execution_count": 67,
   "metadata": {},
   "outputs": [],
   "source": [
    "DOMAIN_EXTENT = 1.0\n",
    "NUM_POINTS = 48\n",
    "DT = 0.01\n",
    "# Can also supply a 2d vector for diagonal diffusivity. For full anisotropy, the\n",
    "# matrix must be positive definite.\n",
    "NU = jnp.array([[0.005, 0.003, 0.002], [0.003, 0.04, 0.001], [0.002, 0.001, 0.02]])\n",
    "\n",
    "anisotropic_diffusion_stepper = ex.stepper.Diffusion(\n",
    "    3, DOMAIN_EXTENT, NUM_POINTS, DT, diffusivity=NU\n",
    ")\n",
    "\n",
    "grid = ex.make_grid(3, DOMAIN_EXTENT, NUM_POINTS)\n",
    "u_0 = (\n",
    "    jnp.sin(2 * jnp.pi * grid[0:1] / DOMAIN_EXTENT)\n",
    "    * jnp.cos(2 * 2 * jnp.pi * grid[1:2] / DOMAIN_EXTENT)\n",
    "    * jnp.sin(3 * 2 * jnp.pi * grid[2:3] / DOMAIN_EXTENT)\n",
    ")\n",
    "\n",
    "anisotropic_diffusion_trj = ex.rollout(\n",
    "    anisotropic_diffusion_stepper, 40, include_init=True\n",
    ")(u_0)\n",
    "\n",
    "jnp.savez(BASE_FOLDER + \"anisotropic_diffusion_trj.npz\", trj=anisotropic_diffusion_trj)"
   ]
  },
  {
   "cell_type": "code",
   "execution_count": 68,
   "metadata": {},
   "outputs": [
    {
     "data": {
      "text/html": [
       "\n",
       "        <iframe\n",
       "            width=\"1200\"\n",
       "            height=\"800\"\n",
       "            src=\"https://keksboter.github.io/v4dv\"\n",
       "            frameborder=\"0\"\n",
       "            allowfullscreen\n",
       "            \n",
       "        ></iframe>\n",
       "        "
      ],
      "text/plain": [
       "<IPython.lib.display.IFrame at 0x7e773c3af070>"
      ]
     },
     "execution_count": 68,
     "metadata": {},
     "output_type": "execute_result"
    }
   ],
   "source": [
    "IFrame(src=\"https://keksboter.github.io/v4dv\", width=1200, height=800)"
   ]
  },
  {
   "cell_type": "markdown",
   "metadata": {},
   "source": [
    "### Advection-Diffusion"
   ]
  },
  {
   "cell_type": "code",
   "execution_count": 69,
   "metadata": {},
   "outputs": [],
   "source": [
    "DOMAIN_EXTENT = 1.0\n",
    "NUM_POINTS = 48\n",
    "DT = 0.01\n",
    "# Can supply up to a vector for the advection speed, and up to a matrix for\n",
    "# anisotropic diffusion\n",
    "velocity = 1.0\n",
    "diffusivity = 0.03\n",
    "\n",
    "advection_diffusion_stepper = ex.stepper.AdvectionDiffusion(\n",
    "    3, DOMAIN_EXTENT, NUM_POINTS, DT, velocity=velocity, diffusivity=diffusivity\n",
    ")\n",
    "\n",
    "grid = ex.make_grid(3, DOMAIN_EXTENT, NUM_POINTS)\n",
    "u_0 = (\n",
    "    jnp.sin(2 * jnp.pi * grid[0:1] / DOMAIN_EXTENT)\n",
    "    * jnp.cos(2 * 2 * jnp.pi * grid[1:2] / DOMAIN_EXTENT)\n",
    "    * jnp.sin(3 * 2 * jnp.pi * grid[2:3] / DOMAIN_EXTENT)\n",
    ")\n",
    "\n",
    "advection_diffusion_trj = ex.rollout(\n",
    "    advection_diffusion_stepper, 40, include_init=True\n",
    ")(u_0)\n",
    "\n",
    "jnp.savez(BASE_FOLDER + \"advection_diffusion_trj.npz\", trj=advection_diffusion_trj)"
   ]
  },
  {
   "cell_type": "code",
   "execution_count": 70,
   "metadata": {},
   "outputs": [
    {
     "data": {
      "text/html": [
       "\n",
       "        <iframe\n",
       "            width=\"1200\"\n",
       "            height=\"800\"\n",
       "            src=\"https://keksboter.github.io/v4dv\"\n",
       "            frameborder=\"0\"\n",
       "            allowfullscreen\n",
       "            \n",
       "        ></iframe>\n",
       "        "
      ],
      "text/plain": [
       "<IPython.lib.display.IFrame at 0x7e773c384fa0>"
      ]
     },
     "execution_count": 70,
     "metadata": {},
     "output_type": "execute_result"
    }
   ],
   "source": [
    "IFrame(src=\"https://keksboter.github.io/v4dv\", width=1200, height=800)"
   ]
  },
  {
   "cell_type": "markdown",
   "metadata": {},
   "source": [
    "### Dispersion"
   ]
  },
  {
   "cell_type": "code",
   "execution_count": 71,
   "metadata": {},
   "outputs": [],
   "source": [
    "DOMAIN_EXTENT = 1.0\n",
    "NUM_POINTS = 48\n",
    "DT = 0.01\n",
    "# Can also supply a vector for different dispersivity per dimension\n",
    "DISPERSIVITY = 0.01\n",
    "\n",
    "dispersion_stepper = ex.stepper.Dispersion(\n",
    "    3, DOMAIN_EXTENT, NUM_POINTS, DT, dispersivity=DISPERSIVITY\n",
    ")\n",
    "\n",
    "grid = ex.make_grid(3, DOMAIN_EXTENT, NUM_POINTS)\n",
    "u_0 = jnp.sin(2 * jnp.pi * grid[0:1] / DOMAIN_EXTENT) * jnp.cos(\n",
    "    2 * 2 * jnp.pi * grid[1:2] / DOMAIN_EXTENT\n",
    ") + jnp.sin(3 * 2 * jnp.pi * grid[0:1] / DOMAIN_EXTENT) * jnp.cos(\n",
    "    3 * 2 * jnp.pi * grid[2:3] / DOMAIN_EXTENT\n",
    ")\n",
    "dispersion_trj = ex.rollout(dispersion_stepper, 40, include_init=True)(u_0)\n",
    "\n",
    "jnp.savez(BASE_FOLDER + \"dispersion_trj.npz\", trj=dispersion_trj)"
   ]
  },
  {
   "cell_type": "code",
   "execution_count": 72,
   "metadata": {},
   "outputs": [
    {
     "data": {
      "text/html": [
       "\n",
       "        <iframe\n",
       "            width=\"1200\"\n",
       "            height=\"800\"\n",
       "            src=\"https://keksboter.github.io/v4dv\"\n",
       "            frameborder=\"0\"\n",
       "            allowfullscreen\n",
       "            \n",
       "        ></iframe>\n",
       "        "
      ],
      "text/plain": [
       "<IPython.lib.display.IFrame at 0x7e773c3ae260>"
      ]
     },
     "execution_count": 72,
     "metadata": {},
     "output_type": "execute_result"
    }
   ],
   "source": [
    "IFrame(src=\"https://keksboter.github.io/v4dv\", width=1200, height=800)"
   ]
  },
  {
   "cell_type": "markdown",
   "metadata": {},
   "source": [
    "### Hyper-Diffusion"
   ]
  },
  {
   "cell_type": "code",
   "execution_count": 73,
   "metadata": {},
   "outputs": [],
   "source": [
    "DOMAIN_EXTENT = 1.0\n",
    "NUM_POINTS = 48\n",
    "DT = 0.01\n",
    "HYPER_DIFFUSIVITY = 0.0001\n",
    "\n",
    "hyper_diffusion_stepper = ex.stepper.HyperDiffusion(\n",
    "    3, DOMAIN_EXTENT, NUM_POINTS, DT, hyper_diffusivity=HYPER_DIFFUSIVITY\n",
    ")\n",
    "\n",
    "grid = ex.make_grid(3, DOMAIN_EXTENT, NUM_POINTS)\n",
    "u_0 = (\n",
    "    jnp.sin(2 * jnp.pi * grid[0:1] / DOMAIN_EXTENT)\n",
    "    * jnp.cos(2 * 2 * jnp.pi * grid[1:2] / DOMAIN_EXTENT)\n",
    "    * jnp.sin(3 * 2 * jnp.pi * grid[2:3] / DOMAIN_EXTENT)\n",
    ")\n",
    "\n",
    "hyper_diffusion_trj = ex.rollout(hyper_diffusion_stepper, 40, include_init=True)(u_0)\n",
    "\n",
    "jnp.savez(BASE_FOLDER + \"hyper_diffusion_trj.npz\", trj=hyper_diffusion_trj)"
   ]
  },
  {
   "cell_type": "code",
   "execution_count": 74,
   "metadata": {},
   "outputs": [
    {
     "data": {
      "text/html": [
       "\n",
       "        <iframe\n",
       "            width=\"1200\"\n",
       "            height=\"800\"\n",
       "            src=\"https://keksboter.github.io/v4dv\"\n",
       "            frameborder=\"0\"\n",
       "            allowfullscreen\n",
       "            \n",
       "        ></iframe>\n",
       "        "
      ],
      "text/plain": [
       "<IPython.lib.display.IFrame at 0x7e773c3b4100>"
      ]
     },
     "execution_count": 74,
     "metadata": {},
     "output_type": "execute_result"
    }
   ],
   "source": [
    "IFrame(src=\"https://keksboter.github.io/v4dv\", width=1200, height=800)"
   ]
  },
  {
   "cell_type": "markdown",
   "metadata": {},
   "source": [
    "## Nonlinear PDEs"
   ]
  },
  {
   "cell_type": "code",
   "execution_count": 75,
   "metadata": {},
   "outputs": [],
   "source": [
    "DOMAIN_EXTENT = 1.0\n",
    "NUM_POINTS = 48\n",
    "DT = 0.01\n",
    "NU = 0.01\n",
    "\n",
    "burgers_stepper = ex.stepper.Burgers(3, DOMAIN_EXTENT, NUM_POINTS, DT, diffusivity=NU)\n",
    "\n",
    "grid = ex.make_grid(3, DOMAIN_EXTENT, NUM_POINTS)\n",
    "\n",
    "# Burgers has two channels!\n",
    "u_0 = jnp.concatenate(\n",
    "    [\n",
    "        jnp.sin(2 * jnp.pi * grid[0:1] / DOMAIN_EXTENT)\n",
    "        * jnp.cos(2 * 2 * jnp.pi * grid[1:2] / DOMAIN_EXTENT)\n",
    "        * jnp.sin(3 * 2 * jnp.pi * grid[2:3] / DOMAIN_EXTENT),\n",
    "        jnp.cos(2 * jnp.pi * grid[0:1] / DOMAIN_EXTENT)\n",
    "        * jnp.sin(2 * 2 * jnp.pi * grid[1:2] / DOMAIN_EXTENT)\n",
    "        * jnp.cos(3 * 2 * jnp.pi * grid[2:3] / DOMAIN_EXTENT),\n",
    "        jnp.cos(2 * jnp.pi * grid[0:1] / DOMAIN_EXTENT),\n",
    "    ]\n",
    ")\n",
    "\n",
    "burgers_trj = ex.rollout(burgers_stepper, 40, include_init=True)(u_0)\n",
    "\n",
    "jnp.savez(BASE_FOLDER + \"burgers_trj.npz\", trj=burgers_trj)"
   ]
  },
  {
   "cell_type": "code",
   "execution_count": 76,
   "metadata": {},
   "outputs": [
    {
     "data": {
      "text/html": [
       "\n",
       "        <iframe\n",
       "            width=\"1200\"\n",
       "            height=\"800\"\n",
       "            src=\"https://keksboter.github.io/v4dv\"\n",
       "            frameborder=\"0\"\n",
       "            allowfullscreen\n",
       "            \n",
       "        ></iframe>\n",
       "        "
      ],
      "text/plain": [
       "<IPython.lib.display.IFrame at 0x7e773c3c3fd0>"
      ]
     },
     "execution_count": 76,
     "metadata": {},
     "output_type": "execute_result"
    }
   ],
   "source": [
    "IFrame(src=\"https://keksboter.github.io/v4dv\", width=1200, height=800)"
   ]
  },
  {
   "cell_type": "markdown",
   "metadata": {},
   "source": [
    "### Single-Channel Burgers"
   ]
  },
  {
   "cell_type": "code",
   "execution_count": 77,
   "metadata": {},
   "outputs": [],
   "source": [
    "DOMAIN_EXTENT = 1.0\n",
    "NUM_POINTS = 48\n",
    "DT = 0.01\n",
    "NU = 0.01\n",
    "\n",
    "single_channel_burgers_stepper = ex.stepper.Burgers(\n",
    "    3, DOMAIN_EXTENT, NUM_POINTS, DT, diffusivity=NU, single_channel=True\n",
    ")\n",
    "\n",
    "grid = ex.make_grid(3, DOMAIN_EXTENT, NUM_POINTS)\n",
    "\n",
    "u_0 = (\n",
    "    jnp.sin(2 * jnp.pi * grid[0:1] / DOMAIN_EXTENT)\n",
    "    * jnp.cos(2 * 2 * jnp.pi * grid[1:2] / DOMAIN_EXTENT)\n",
    "    * jnp.sin(3 * 2 * jnp.pi * grid[2:3] / DOMAIN_EXTENT)\n",
    ")\n",
    "\n",
    "single_channel_burgers_trj = ex.rollout(\n",
    "    single_channel_burgers_stepper, 40, include_init=True\n",
    ")(u_0)\n",
    "\n",
    "jnp.savez(\n",
    "    BASE_FOLDER + \"single_channel_burgers_trj.npz\", trj=single_channel_burgers_trj\n",
    ")"
   ]
  },
  {
   "cell_type": "code",
   "execution_count": 78,
   "metadata": {},
   "outputs": [
    {
     "data": {
      "text/html": [
       "\n",
       "        <iframe\n",
       "            width=\"1200\"\n",
       "            height=\"800\"\n",
       "            src=\"https://keksboter.github.io/v4dv\"\n",
       "            frameborder=\"0\"\n",
       "            allowfullscreen\n",
       "            \n",
       "        ></iframe>\n",
       "        "
      ],
      "text/plain": [
       "<IPython.lib.display.IFrame at 0x7e773c3ef9d0>"
      ]
     },
     "execution_count": 78,
     "metadata": {},
     "output_type": "execute_result"
    }
   ],
   "source": [
    "IFrame(src=\"https://keksboter.github.io/v4dv\", width=1200, height=800)"
   ]
  },
  {
   "cell_type": "markdown",
   "metadata": {},
   "source": [
    "### Kuramoto-Sivashinsky (KS)"
   ]
  },
  {
   "cell_type": "code",
   "execution_count": 79,
   "metadata": {},
   "outputs": [],
   "source": [
    "DOMAIN_EXTENT = 30.0\n",
    "NUM_POINTS = 48\n",
    "DT = 0.5\n",
    "NUM_SUBSTEPS = 5\n",
    "\n",
    "ks_stepper = ex.RepeatedStepper(\n",
    "    ex.stepper.KuramotoSivashinsky(3, DOMAIN_EXTENT, NUM_POINTS, DT / NUM_SUBSTEPS),\n",
    "    NUM_SUBSTEPS,\n",
    ")\n",
    "\n",
    "# IC is irrelevant\n",
    "u_0 = jax.random.normal(jax.random.PRNGKey(0), (1, NUM_POINTS, NUM_POINTS, NUM_POINTS))\n",
    "\n",
    "u_0 -= jnp.mean(u_0)\n",
    "\n",
    "warmed_up_u_0 = ex.repeat(ks_stepper, 500)(u_0)\n",
    "\n",
    "ks_trj = ex.rollout(ks_stepper, 40, include_init=True)(warmed_up_u_0)\n",
    "\n",
    "jnp.savez(BASE_FOLDER + \"ks_trj.npz\", trj=ks_trj)"
   ]
  },
  {
   "cell_type": "code",
   "execution_count": 80,
   "metadata": {},
   "outputs": [
    {
     "data": {
      "text/html": [
       "\n",
       "        <iframe\n",
       "            width=\"1200\"\n",
       "            height=\"800\"\n",
       "            src=\"https://keksboter.github.io/v4dv\"\n",
       "            frameborder=\"0\"\n",
       "            allowfullscreen\n",
       "            \n",
       "        ></iframe>\n",
       "        "
      ],
      "text/plain": [
       "<IPython.lib.display.IFrame at 0x7e773c3ad300>"
      ]
     },
     "execution_count": 80,
     "metadata": {},
     "output_type": "execute_result"
    }
   ],
   "source": [
    "IFrame(src=\"https://keksboter.github.io/v4dv\", width=1200, height=800)"
   ]
  },
  {
   "cell_type": "markdown",
   "metadata": {},
   "source": [
    "### Korteweg-de Vries (KdV)"
   ]
  },
  {
   "cell_type": "code",
   "execution_count": 81,
   "metadata": {},
   "outputs": [],
   "source": [
    "DOMAIN_EXTENT = 20.0\n",
    "NUM_POINTS = 48\n",
    "DT = 0.05\n",
    "\n",
    "kdv_stepper = ex.stepper.KortewegDeVries(\n",
    "    3,\n",
    "    DOMAIN_EXTENT,\n",
    "    NUM_POINTS,\n",
    "    DT,\n",
    "    single_channel=True,\n",
    ")\n",
    "\n",
    "grid = ex.make_grid(3, DOMAIN_EXTENT, NUM_POINTS)\n",
    "u_0 = (\n",
    "    jnp.sin(2 * jnp.pi * grid[0:1] / DOMAIN_EXTENT)\n",
    "    * jnp.cos(2 * 2 * jnp.pi * grid[1:2] / DOMAIN_EXTENT)\n",
    "    * jnp.sin(3 * 2 * jnp.pi * grid[2:3] / DOMAIN_EXTENT)\n",
    ")\n",
    "\n",
    "kdv_trj = ex.rollout(kdv_stepper, 40, include_init=True)(u_0)\n",
    "\n",
    "jnp.savez(BASE_FOLDER + \"kdv_trj.npz\", trj=kdv_trj)"
   ]
  },
  {
   "cell_type": "code",
   "execution_count": 82,
   "metadata": {},
   "outputs": [
    {
     "data": {
      "text/html": [
       "\n",
       "        <iframe\n",
       "            width=\"1200\"\n",
       "            height=\"800\"\n",
       "            src=\"https://keksboter.github.io/v4dv\"\n",
       "            frameborder=\"0\"\n",
       "            allowfullscreen\n",
       "            \n",
       "        ></iframe>\n",
       "        "
      ],
      "text/plain": [
       "<IPython.lib.display.IFrame at 0x7e773c3aeb00>"
      ]
     },
     "execution_count": 82,
     "metadata": {},
     "output_type": "execute_result"
    }
   ],
   "source": [
    "IFrame(src=\"https://keksboter.github.io/v4dv\", width=1200, height=800)"
   ]
  },
  {
   "cell_type": "markdown",
   "metadata": {},
   "source": [
    "## Reaction-Diffusion Systems"
   ]
  },
  {
   "cell_type": "code",
   "execution_count": 83,
   "metadata": {},
   "outputs": [],
   "source": [
    "DOMAIN_EXTENT = 10.0\n",
    "NUM_POINTS = 96\n",
    "DT = 0.01\n",
    "DIFFUSIVITY = 0.01\n",
    "REACTIVITY = 10.0\n",
    "\n",
    "fisher_kpp_stepper = ex.reaction.FisherKPP(\n",
    "    3, DOMAIN_EXTENT, NUM_POINTS, DT, diffusivity=DIFFUSIVITY, reactivity=REACTIVITY\n",
    ")\n",
    "\n",
    "ic_gen = ex.ic.ClampingICGenerator(ex.ic.RandomTruncatedFourierSeries(3), limits=(0, 1))\n",
    "u_0 = ic_gen(NUM_POINTS, key=jax.random.PRNGKey(0))\n",
    "\n",
    "fisher_kpp_trj = ex.rollout(fisher_kpp_stepper, 40, include_init=True)(u_0)\n",
    "\n",
    "# Spatial substepping to get 48^3\n",
    "fisher_kpp_trj = fisher_kpp_trj[..., ::2, ::2, ::2]\n",
    "\n",
    "jnp.savez(BASE_FOLDER + \"fisher_kpp_trj.npz\", trj=fisher_kpp_trj)"
   ]
  },
  {
   "cell_type": "code",
   "execution_count": 84,
   "metadata": {},
   "outputs": [
    {
     "data": {
      "text/html": [
       "\n",
       "        <iframe\n",
       "            width=\"1200\"\n",
       "            height=\"800\"\n",
       "            src=\"https://keksboter.github.io/v4dv\"\n",
       "            frameborder=\"0\"\n",
       "            allowfullscreen\n",
       "            \n",
       "        ></iframe>\n",
       "        "
      ],
      "text/plain": [
       "<IPython.lib.display.IFrame at 0x7e773c3ef9a0>"
      ]
     },
     "execution_count": 84,
     "metadata": {},
     "output_type": "execute_result"
    }
   ],
   "source": [
    "IFrame(src=\"https://keksboter.github.io/v4dv\", width=1200, height=800)"
   ]
  },
  {
   "cell_type": "markdown",
   "metadata": {},
   "source": [
    "### Gray-Scott"
   ]
  },
  {
   "cell_type": "code",
   "execution_count": 85,
   "metadata": {},
   "outputs": [],
   "source": [
    "DOMAIN_EXTENT = 1.0\n",
    "NUM_POINTS = 96\n",
    "DT = 50.0\n",
    "DIFFUSIVITY_0 = 2e-5\n",
    "DIFFUSIVITY_1 = 1e-5\n",
    "FEED_RATE = 0.04\n",
    "KILL_RATE = 0.06\n",
    "\n",
    "gray_scott_stepper = ex.RepeatedStepper(\n",
    "    ex.reaction.GrayScott(\n",
    "        3,\n",
    "        DOMAIN_EXTENT,\n",
    "        NUM_POINTS,\n",
    "        DT / 50,\n",
    "        diffusivity_1=DIFFUSIVITY_0,\n",
    "        diffusivity_2=DIFFUSIVITY_1,\n",
    "        feed_rate=FEED_RATE,\n",
    "        kill_rate=KILL_RATE,\n",
    "    ),\n",
    "    50,\n",
    ")\n",
    "\n",
    "u_0 = ex.ic.RandomMultiChannelICGenerator(\n",
    "    [\n",
    "        ex.ic.RandomGaussianBlobs(3, one_complement=True),\n",
    "        ex.ic.RandomGaussianBlobs(3),\n",
    "    ]\n",
    ")(NUM_POINTS, key=jax.random.PRNGKey(0))\n",
    "\n",
    "gray_scott_trj = ex.rollout(gray_scott_stepper, 40, include_init=True)(u_0)\n",
    "\n",
    "# Spatial substepping to get 48^3\n",
    "gray_scott_trj = gray_scott_trj[..., ::2, ::2, ::2]\n",
    "\n",
    "jnp.savez(BASE_FOLDER + \"gray_scott_trj.npz\", trj=gray_scott_trj)"
   ]
  },
  {
   "cell_type": "code",
   "execution_count": 86,
   "metadata": {},
   "outputs": [
    {
     "data": {
      "text/html": [
       "\n",
       "        <iframe\n",
       "            width=\"1200\"\n",
       "            height=\"800\"\n",
       "            src=\"https://keksboter.github.io/v4dv\"\n",
       "            frameborder=\"0\"\n",
       "            allowfullscreen\n",
       "            \n",
       "        ></iframe>\n",
       "        "
      ],
      "text/plain": [
       "<IPython.lib.display.IFrame at 0x7e773c3ef640>"
      ]
     },
     "execution_count": 86,
     "metadata": {},
     "output_type": "execute_result"
    }
   ],
   "source": [
    "IFrame(src=\"https://keksboter.github.io/v4dv\", width=1200, height=800)"
   ]
  },
  {
   "cell_type": "markdown",
   "metadata": {},
   "source": [
    "### Swift-Hohenberg"
   ]
  },
  {
   "cell_type": "code",
   "execution_count": 87,
   "metadata": {},
   "outputs": [],
   "source": [
    "DOMAIN_EXTENT = 20.0 * jnp.pi\n",
    "NUM_POINTS = 96\n",
    "DT = 1.0\n",
    "\n",
    "swift_hohenberg_stepper = ex.RepeatedStepper(\n",
    "    ex.reaction.SwiftHohenberg(3, DOMAIN_EXTENT, NUM_POINTS, DT / 10),\n",
    "    10,\n",
    ")\n",
    "\n",
    "u_0 = ex.ic.RandomTruncatedFourierSeries(3, max_one=True)(\n",
    "    NUM_POINTS, key=jax.random.PRNGKey(0)\n",
    ")\n",
    "\n",
    "swift_hohenberg_trj = ex.rollout(swift_hohenberg_stepper, 40, include_init=True)(u_0)\n",
    "\n",
    "# Spatial substepping to get 48^3\n",
    "swift_hohenberg_trj = swift_hohenberg_trj[..., ::2, ::2, ::2]\n",
    "\n",
    "jnp.savez(BASE_FOLDER + \"swift_hohenberg_trj.npz\", trj=swift_hohenberg_trj)"
   ]
  },
  {
   "cell_type": "code",
   "execution_count": 88,
   "metadata": {},
   "outputs": [
    {
     "data": {
      "text/html": [
       "\n",
       "        <iframe\n",
       "            width=\"1200\"\n",
       "            height=\"800\"\n",
       "            src=\"https://keksboter.github.io/v4dv\"\n",
       "            frameborder=\"0\"\n",
       "            allowfullscreen\n",
       "            \n",
       "        ></iframe>\n",
       "        "
      ],
      "text/plain": [
       "<IPython.lib.display.IFrame at 0x7e773c3efb20>"
      ]
     },
     "execution_count": 88,
     "metadata": {},
     "output_type": "execute_result"
    }
   ],
   "source": [
    "IFrame(src=\"https://keksboter.github.io/v4dv\", width=1200, height=800)"
   ]
  },
  {
   "cell_type": "markdown",
   "metadata": {},
   "source": [
    "## All together"
   ]
  },
  {
   "cell_type": "code",
   "execution_count": 89,
   "metadata": {},
   "outputs": [],
   "source": [
    "joint_trj = jnp.concatenate(\n",
    "    [\n",
    "        advection_trj,\n",
    "        diffusion_trj,\n",
    "        anisotropic_diffusion_trj,\n",
    "        advection_diffusion_trj,\n",
    "        dispersion_trj,\n",
    "        hyper_diffusion_trj,\n",
    "        burgers_trj,\n",
    "        single_channel_burgers_trj,\n",
    "        ks_trj,\n",
    "        kdv_trj,\n",
    "        fisher_kpp_trj,\n",
    "        gray_scott_trj,\n",
    "        swift_hohenberg_trj,\n",
    "    ],\n",
    "    axis=1,\n",
    ")\n",
    "\n",
    "jnp.savez(BASE_FOLDER + \"joint_trj.npz\", trj=joint_trj)"
   ]
  },
  {
   "cell_type": "code",
   "execution_count": 90,
   "metadata": {},
   "outputs": [
    {
     "data": {
      "text/html": [
       "\n",
       "        <iframe\n",
       "            width=\"1800\"\n",
       "            height=\"1000\"\n",
       "            src=\"https://keksboter.github.io/v4dv\"\n",
       "            frameborder=\"0\"\n",
       "            allowfullscreen\n",
       "            \n",
       "        ></iframe>\n",
       "        "
      ],
      "text/plain": [
       "<IPython.lib.display.IFrame at 0x7e773c22e410>"
      ]
     },
     "execution_count": 90,
     "metadata": {},
     "output_type": "execute_result"
    }
   ],
   "source": [
    "IFrame(src=\"https://keksboter.github.io/v4dv\", width=1800, height=1000)"
   ]
  },
  {
   "cell_type": "code",
   "execution_count": null,
   "metadata": {},
   "outputs": [],
   "source": []
  }
 ],
 "metadata": {
  "kernelspec": {
   "display_name": "jax_fresh",
   "language": "python",
   "name": "python3"
  },
  "language_info": {
   "codemirror_mode": {
    "name": "ipython",
    "version": 3
   },
   "file_extension": ".py",
   "mimetype": "text/x-python",
   "name": "python",
   "nbconvert_exporter": "python",
   "pygments_lexer": "ipython3",
   "version": "3.10.13"
  }
 },
 "nbformat": 4,
 "nbformat_minor": 2
}
