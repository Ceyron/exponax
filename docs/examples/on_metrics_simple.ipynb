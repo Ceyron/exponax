{
 "cells": [
  {
   "cell_type": "markdown",
   "metadata": {},
   "source": [
    "# The metrics of comparing fields in `Exponax`\n",
    "\n",
    "There are four major classes of metrics:\n",
    "\n",
    "1. Spatial-based (that work in physical space)\n",
    "2. Fourier-based (that work in the coefficient space)\n",
    "3. Correlation-based\n",
    "4. Derivative-based (which sugarcoat the functionalities to Fourier-based\n",
    "   approaches to achieve Sobolev-like norms)\n",
    "\n",
    "Class 1., 2., and 4. can be further divided into:\n",
    "1. Absolute metrics (i.e., related to the MAE)\n",
    "2. Absolute squared metrics (i.e., related to the MSE)\n",
    "3. Rooted metrics (i.e., related to the RMSE)\n",
    "\n",
    "Then for each of the three, there is both the absolute version and a\n",
    "relative/normalized version\n"
   ]
  },
  {
   "cell_type": "code",
   "execution_count": null,
   "metadata": {},
   "outputs": [],
   "source": []
  },
  {
   "cell_type": "markdown",
   "metadata": {},
   "source": [
    "# Channel separate aggregation"
   ]
  },
  {
   "cell_type": "markdown",
   "metadata": {},
   "source": [
    "# Some brief look at Parseval's theorem"
   ]
  },
  {
   "cell_type": "markdown",
   "metadata": {},
   "source": []
  }
 ],
 "metadata": {
  "language_info": {
   "name": "python"
  }
 },
 "nbformat": 4,
 "nbformat_minor": 2
}
