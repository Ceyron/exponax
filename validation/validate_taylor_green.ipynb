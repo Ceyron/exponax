{
 "cells": [
  {
   "cell_type": "markdown",
   "metadata": {},
   "source": [
    "# Validation of Navier-Stokes solver against Taylor-Green solution\n",
    "\n",
    "The Taylor-Green vortex in 2D is an analytical solution to the Navier-Stokes\n",
    "equation. In primal variables it reads\n",
    "(https://en.wikipedia.org/wiki/Taylor%E2%80%93Green_vortex#Taylor%E2%80%93Green_vortex_solutiona)\n",
    "\n",
    "$$\n",
    "u(x, y, t) = -\\cos(x) \\sin(y) F(t), \\quad v(x, y, t) = \\sin(x) \\cos(y) F(t),\n",
    "$$\n",
    "\n",
    "where $F(t) = \\exp(-2\\nu t)$.\n",
    "\n",
    "Hence, the analytical solution for the vorticity is\n",
    "\n",
    "$$\n",
    "\\omega(x, y, t) = 2 \\sin(x) \\sin(x) F(t)\n",
    "$$\n",
    "\n"
   ]
  },
  {
   "cell_type": "code",
   "execution_count": 1,
   "metadata": {},
   "outputs": [],
   "source": [
    "import jax\n",
    "import jax.numpy as jnp\n",
    "import matplotlib.pyplot as plt\n",
    "import equinox as eqx"
   ]
  },
  {
   "cell_type": "code",
   "execution_count": 2,
   "metadata": {},
   "outputs": [],
   "source": [
    "import exponax as ex"
   ]
  },
  {
   "cell_type": "code",
   "execution_count": 3,
   "metadata": {},
   "outputs": [],
   "source": [
    "class TaylorGreenVorticity(eqx.Module):\n",
    "    nu: float\n",
    "\n",
    "    def __init__(self, domain_extent, diffusivity):\n",
    "        if domain_extent != (2 * jnp.pi):\n",
    "            raise ValueError(\"Domain extent must be 2 * pi\")\n",
    "        self.nu = diffusivity\n",
    "\n",
    "    def __call__(self, t, x):\n",
    "        f_term = jnp.exp(-2 * self.nu * t)\n",
    "        vorticity = 2 * jnp.sin(x[0:1]) * jnp.sin(x[1:2]) * f_term\n",
    "\n",
    "        return vorticity"
   ]
  },
  {
   "cell_type": "code",
   "execution_count": 4,
   "metadata": {},
   "outputs": [],
   "source": [
    "grid = ex.make_grid(2, 2 * jnp.pi, 60)"
   ]
  },
  {
   "cell_type": "code",
   "execution_count": 5,
   "metadata": {},
   "outputs": [],
   "source": [
    "tg = TaylorGreenVorticity(2 * jnp.pi, 0.1)"
   ]
  },
  {
   "cell_type": "code",
   "execution_count": 6,
   "metadata": {},
   "outputs": [],
   "source": [
    "ic = tg(0.0, grid)"
   ]
  },
  {
   "cell_type": "code",
   "execution_count": 7,
   "metadata": {},
   "outputs": [
    {
     "data": {
      "image/png": "[encoded data removed]",
      "text/plain": [
       "<Figure size 640x480 with 1 Axes>"
      ]
     },
     "execution_count": 7,
     "metadata": {},
     "output_type": "execute_result"
    }
   ],
   "source": [
    "ex.viz.plot_state_2d(ic)"
   ]
  },
  {
   "cell_type": "code",
   "execution_count": 8,
   "metadata": {},
   "outputs": [],
   "source": [
    "DT = 0.01\n",
    "ns_stepper = ex.stepper.NavierStokesVorticity(\n",
    "    2,\n",
    "    2 * jnp.pi,\n",
    "    60,\n",
    "    DT,\n",
    "    diffusivity=0.1,\n",
    ")"
   ]
  },
  {
   "cell_type": "code",
   "execution_count": 9,
   "metadata": {},
   "outputs": [],
   "source": [
    "def rel_error(pred, ref):\n",
    "    diff_norm = jnp.linalg.norm(pred - ref)\n",
    "    ref_norm = jnp.linalg.norm(ref)\n",
    "    return diff_norm / ref_norm"
   ]
  },
  {
   "cell_type": "code",
   "execution_count": 10,
   "metadata": {},
   "outputs": [
    {
     "data": {
      "text/plain": [
       "Array(1.8526086e-07, dtype=float32)"
      ]
     },
     "execution_count": 10,
     "metadata": {},
     "output_type": "execute_result"
    }
   ],
   "source": [
    "rel_error(ns_stepper(ic), tg(DT, grid))"
   ]
  },
  {
   "cell_type": "code",
   "execution_count": 11,
   "metadata": {},
   "outputs": [
    {
     "data": {
      "text/plain": [
       "Array(1.06592e-06, dtype=float32)"
      ]
     },
     "execution_count": 11,
     "metadata": {},
     "output_type": "execute_result"
    }
   ],
   "source": [
    "rel_error(ex.repeat(ns_stepper, 10)(ic), tg(10 * DT, grid))"
   ]
  },
  {
   "cell_type": "code",
   "execution_count": 12,
   "metadata": {},
   "outputs": [
    {
     "data": {
      "text/plain": [
       "Array(9.995669e-06, dtype=float32)"
      ]
     },
     "execution_count": 12,
     "metadata": {},
     "output_type": "execute_result"
    }
   ],
   "source": [
    "rel_error(ex.repeat(ns_stepper, 100)(ic), tg(100 * DT, grid))"
   ]
  },
  {
   "cell_type": "code",
   "execution_count": 13,
   "metadata": {},
   "outputs": [
    {
     "data": {
      "text/plain": [
       "Array(0.00010065, dtype=float32)"
      ]
     },
     "execution_count": 13,
     "metadata": {},
     "output_type": "execute_result"
    }
   ],
   "source": [
    "rel_error(ex.repeat(ns_stepper, 1000)(ic), tg(1000 * DT, grid))"
   ]
  }
 ],
 "metadata": {
  "kernelspec": {
   "display_name": "jax_fresh",
   "language": "python",
   "name": "python3"
  },
  "language_info": {
   "codemirror_mode": {
    "name": "ipython",
    "version": 3
   },
   "file_extension": ".py",
   "mimetype": "text/x-python",
   "name": "python",
   "nbconvert_exporter": "python",
   "pygments_lexer": "ipython3",
   "version": "3.12.4"
  }
 },
 "nbformat": 4,
 "nbformat_minor": 2
}
